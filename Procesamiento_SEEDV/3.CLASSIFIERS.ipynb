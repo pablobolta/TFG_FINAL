{
 "cells": [
  {
   "cell_type": "code",
   "execution_count": 10,
   "id": "8cb8eb5d",
   "metadata": {},
   "outputs": [],
   "source": [
    "from sklearn.preprocessing import StandardScaler, LabelEncoder\n",
    "from sklearn.model_selection import train_test_split, GridSearchCV\n",
    "from sklearn.linear_model import LogisticRegression\n",
    "from sklearn.metrics import classification_report, confusion_matrix, accuracy_score\n",
    "from sklearn.utils.multiclass import unique_labels\n",
    "from sklearn.neighbors import KNeighborsClassifier\n",
    "from sklearn.ensemble import RandomForestClassifier, GradientBoostingClassifier\n",
    "from sklearn.svm import SVC\n",
    "from sklearn.neural_network import MLPClassifier\n",
    "\n",
    "import pandas as pd\n",
    "import numpy as np\n",
    "import matplotlib.pyplot as plt\n",
    "import seaborn as sns\n",
    "\n",
    "from keras.models import Sequential\n",
    "from keras.layers import Conv2D, MaxPooling2D, Flatten, Dense, Dropout\n",
    "from keras.utils import to_categorical, plot_model\n",
    "\n",
    "from tensorflow.keras.layers import LSTM, BatchNormalization, Conv1D, MaxPooling1D\n",
    "from tensorflow.keras.callbacks import EarlyStopping, ReduceLROnPlateau\n",
    "from tensorflow.keras.optimizers import Adam, RMSprop\n",
    "from tensorflow.keras.layers import LSTM, Dropout, Dense, BatchNormalization, Bidirectional"
   ]
  },
  {
   "cell_type": "markdown",
   "id": "ff61362e",
   "metadata": {},
   "source": [
    "#### Funcion Matriz de Confusion"
   ]
  },
  {
   "cell_type": "code",
   "execution_count": null,
   "id": "c17cf237",
   "metadata": {},
   "outputs": [],
   "source": [
    "def plot_confusion_matrix(y_true, y_pred, class_labels,\n",
    "                          title='Matriz de Confusión',\n",
    "                          cmap=plt.cm.Blues):\n",
    "    # Calcular la matriz de confusión\n",
    "    cm = confusion_matrix(y_true, y_pred)\n",
    "    \n",
    "    # Usar unique_labels para obtener las etiquetas que se han usado de hecho\n",
    "    labels = unique_labels(y_true, y_pred)\n",
    "    class_labels = [class_labels[label] for label in labels]  # Actualizar las etiquetas para el gráfico\n",
    "    \n",
    "    plt.imshow(cm, interpolation='nearest', cmap=cmap)\n",
    "    plt.title(title)\n",
    "    plt.colorbar()\n",
    "    tick_marks = np.arange(len(class_labels))\n",
    "    plt.xticks(tick_marks, class_labels, rotation=45)\n",
    "    plt.yticks(tick_marks, class_labels)\n",
    "\n",
    "    # Poner las etiquetas en los cuadrados\n",
    "    thresh = cm.max() / 2.\n",
    "    for i in range(cm.shape[0]):\n",
    "        for j in range(cm.shape[1]):\n",
    "            plt.text(j, i, format(cm[i, j], 'd'),\n",
    "                     horizontalalignment=\"center\",\n",
    "                     color=\"white\" if cm[i, j] > thresh else \"black\")\n",
    "\n",
    "    plt.tight_layout()\n",
    "    plt.ylabel('Etiqueta real')\n",
    "    plt.xlabel('Etiqueta predicha')"
   ]
  },
  {
   "cell_type": "markdown",
   "id": "95cab22c",
   "metadata": {},
   "source": [
    "# PREPARACION MODELOS"
   ]
  },
  {
   "cell_type": "markdown",
   "id": "30a3c53e",
   "metadata": {},
   "source": [
    "#### CARGA DE DATOS"
   ]
  },
  {
   "cell_type": "code",
   "execution_count": null,
   "id": "560b6a74",
   "metadata": {},
   "outputs": [],
   "source": [
    "data_procesado = pd.read_csv('procesado.csv')\n",
    "data_eeglab = pd.read_csv('procesado_eeglab.csv')"
   ]
  },
  {
   "cell_type": "markdown",
   "id": "07f13b7c",
   "metadata": {},
   "source": [
    "#### DIVISION EN TRAIN Y TEST"
   ]
  },
  {
   "cell_type": "code",
   "execution_count": null,
   "id": "0913fd60",
   "metadata": {},
   "outputs": [],
   "source": [
    "#DATASET SIN EEGLAB\n",
    "X_procesado = data_procesado.iloc[:, :-1]\n",
    "y_procesado = data_procesado.iloc[:, -1]\n",
    "\n",
    "X_train_procesado, X_test_procesado, y_train_procesado, y_test_procesado = train_test_split(\n",
    "    X_procesado, y_procesado, test_size=0.2, random_state=42, stratify=y_procesado)\n",
    "\n",
    "\n",
    "#DATASET CON EEGLAB\n",
    "X_eeglab = data_eeglab.iloc[:, :-1]\n",
    "y_eeglab = data_eeglab.iloc[:, -1]\n",
    "\n",
    "X_train_eeglab, X_test_eeglab, y_train_eeglab, y_test_eeglab = train_test_split(\n",
    "    X_eeglab, y_eeglab, test_size=0.2, random_state=42, stratify=y_eeglab)"
   ]
  },
  {
   "cell_type": "markdown",
   "id": "cb99549e",
   "metadata": {},
   "source": [
    "#### ESCALADO"
   ]
  },
  {
   "cell_type": "code",
   "execution_count": null,
   "id": "5c7f76c5",
   "metadata": {},
   "outputs": [],
   "source": [
    "scaler = StandardScaler()\n",
    "\n",
    "# Ajustar y transformar los datos\n",
    "X_train_procesado_scaled = scaler.fit_transform(X_train_procesado)\n",
    "X_test_procesado_scaled = scaler.transform(X_test_procesado)\n",
    "\n",
    "X_train_eeglab_scaled = scaler.fit_transform(X_train_eeglab)\n",
    "X_test_eeglab_scaled = scaler.transform(X_test_eeglab)"
   ]
  },
  {
   "cell_type": "markdown",
   "id": "77d8d088",
   "metadata": {},
   "source": [
    "#### MAPEAR RESULTADOS"
   ]
  },
  {
   "cell_type": "code",
   "execution_count": 2,
   "id": "13a5300b",
   "metadata": {},
   "outputs": [],
   "source": [
    "emotion_labels = {\n",
    "    0: 'Disgust',\n",
    "    1: 'Fear',\n",
    "    2: 'Sad',\n",
    "    3: 'Neutral',\n",
    "    4: 'Happy'\n",
    "}"
   ]
  },
  {
   "cell_type": "markdown",
   "id": "695487f8",
   "metadata": {},
   "source": [
    "# CLASIFICADORES"
   ]
  },
  {
   "cell_type": "markdown",
   "id": "3845ef5c",
   "metadata": {},
   "source": [
    "## GRADIENT BOOSTING"
   ]
  },
  {
   "cell_type": "markdown",
   "id": "cef08fad",
   "metadata": {},
   "source": [
    "##### DATASET SIN EEGLAB"
   ]
  },
  {
   "cell_type": "code",
   "execution_count": null,
   "id": "5e11c125",
   "metadata": {},
   "outputs": [],
   "source": [
    "gbm = GradientBoostingClassifier(n_estimators=100, learning_rate=0.5, max_depth=5, random_state=42)\n",
    "gbm.fit(X_train_procesado_scaled, y_train_procesado)\n",
    "y_pred_procesado_gbm = gbm.predict(X_test_procesado_scaled)\n",
    "\n",
    "# Evaluación del modelo\n",
    "accuracy_gbm_procesado = accuracy_score(y_test_procesado, y_pred_procesado_gbm)\n",
    "print(\"Evaluación para el dataset 'procesado' con Gradient Boosting:\")\n",
    "print(\"Reporte de Clasificación:\\n\", classification_report(y_test_procesado, y_pred_procesado_gbm, target_names=list(emotion_labels.values())))\n",
    "print(\"Accuracy:\", accuracy_gbm_procesado)\n",
    "\n",
    "# Visualizar la matriz de confusión\n",
    "plt.figure(figsize=(10, 7))\n",
    "plot_confusion_matrix(y_test_procesado, y_pred_procesado_gbm, class_labels=list(emotion_labels.values()))\n",
    "plt.show()"
   ]
  },
  {
   "cell_type": "markdown",
   "id": "fd832cb6",
   "metadata": {},
   "source": [
    "Evaluación para el dataset 'procesado' con Gradient Boosting:\n",
    "Reporte de Clasificación:\n",
    "               precision    recall  f1-score   support\n",
    "\n",
    "     Disgust       0.55      0.23      0.32       979\n",
    "        Fear       0.58      0.50      0.53      1194\n",
    "         Sad       0.44      0.72      0.55      1523\n",
    "     Neutral       0.54      0.48      0.51      1175\n",
    "       Happy       0.57      0.51      0.54       963\n",
    "\n",
    "    accuracy                           0.51      5834\n",
    "   macro avg       0.53      0.49      0.49      5834\n",
    "weighted avg       0.53      0.51      0.50      5834\n",
    "\n",
    "Accuracy: 0.5082276311278711"
   ]
  },
  {
   "cell_type": "code",
   "execution_count": 3,
   "id": "419eeb94",
   "metadata": {},
   "outputs": [],
   "source": [
    "accuracy_gbm_procesado = 0.5082276311278711"
   ]
  },
  {
   "cell_type": "markdown",
   "id": "2952abe7",
   "metadata": {},
   "source": [
    "##### DATASET CON EEGLAB"
   ]
  },
  {
   "cell_type": "code",
   "execution_count": null,
   "id": "ed80e0f5",
   "metadata": {},
   "outputs": [],
   "source": [
    "gbm = GradientBoostingClassifier(n_estimators=100, learning_rate=0.5, max_depth=5, max_features='sqrt', subsample=1.0, random_state=42)\n",
    "gbm.fit(X_train_eeglab_scaled, y_train_eeglab)\n",
    "\n",
    "# Predicciones en el conjunto de prueba\n",
    "y_pred_eeglab_gbm = gbm.predict(X_test_eeglab_scaled)\n",
    "\n",
    "# Evaluación del modelo\n",
    "accuracy_gbm_eeglab = accuracy_score(y_test_eeglab, y_pred_eeglab_gbm)\n",
    "print(\"Evaluación para el dataset 'procesado_eeglab' con Gradient Boosting:\")\n",
    "print(\"Reporte de Clasificación:\\n\", classification_report(y_test_eeglab, y_pred_eeglab_gbm, target_names=list(emotion_labels.values())))\n",
    "print(\"Accuracy:\", accuracy_gbm_eeglab)\n",
    "\n",
    "# Visualizar la matriz de confusión para 'procesado_eeglab'\n",
    "plt.figure(figsize=(10, 7))\n",
    "plot_confusion_matrix(y_test_eeglab, y_pred_eeglab_gbm, class_labels=list(emotion_labels.values()))\n",
    "plt.show()"
   ]
  },
  {
   "cell_type": "markdown",
   "id": "81325792",
   "metadata": {},
   "source": [
    "Evaluacion para el dataset 'procesado_eeglab' con Gradient Boosting:\n",
    "Reporte de Clasificacion:\n",
    "               precision    recall  f1-score   support\n",
    "\n",
    "     Disgust       0.85      0.80      0.83       979\n",
    "        Fear       0.89      0.86      0.87      1194\n",
    "         Sad       0.84      0.89      0.87      1523\n",
    "     Neutral       0.83      0.85      0.84      1175\n",
    "       Happy       0.84      0.83      0.84       963\n",
    "\n",
    "    accuracy                           0.85      5834\n",
    "   macro avg       0.85      0.85      0.85      5834\n",
    "weighted avg       0.85      0.85      0.85      5834\n",
    "\n",
    "Accuracy: 0.8501885498800137"
   ]
  },
  {
   "cell_type": "code",
   "execution_count": 12,
   "id": "c8a12ce0",
   "metadata": {},
   "outputs": [],
   "source": [
    "accuracy_gbm_eeglab =  0.8501885498800137"
   ]
  },
  {
   "cell_type": "markdown",
   "id": "58a10810",
   "metadata": {},
   "source": [
    "## MLP"
   ]
  },
  {
   "cell_type": "markdown",
   "id": "892ac84e",
   "metadata": {},
   "source": [
    "###### DATASET SIN EEGLAB"
   ]
  },
  {
   "cell_type": "code",
   "execution_count": null,
   "id": "6148156c",
   "metadata": {},
   "outputs": [],
   "source": [
    "mlp = MLPClassifier(hidden_layer_sizes=(100,), max_iter=300, random_state=42, verbose=True)\n",
    "mlp.fit(X_train_procesado_scaled, y_train_procesado)\n",
    "\n",
    "# Predicciones en el conjunto de prueba\n",
    "y_pred_procesado_mlp = mlp.predict(X_test_procesado_scaled)\n",
    "\n",
    "# Evaluación del modelo\n",
    "accuracy_mlp_procesado = accuracy_score(y_test_procesado, y_pred_procesado_mlp)\n",
    "print(\"Evaluación para el dataset 'procesado' con MLPClassifier:\")\n",
    "print(\"Reporte de Clasificación:\\n\", classification_report(y_test_procesado, y_pred_procesado_mlp, target_names=list(emotion_labels.values())))\n",
    "print(\"Accuracy:\", accuracy_mlp_procesado)\n",
    "\n",
    "# Visualizar la matriz de confusión\n",
    "plt.figure(figsize=(10, 7))\n",
    "plot_confusion_matrix(y_test_procesado, y_pred_procesado_mlp, class_labels=list(emotion_labels.values()))\n",
    "plt.show()"
   ]
  },
  {
   "cell_type": "markdown",
   "id": "33a42c93",
   "metadata": {},
   "source": [
    "Evaluacin para el dataset 'procesado' con MLPClassifier:\n",
    "Reporte de Clasificacin:\n",
    "               precision    recall  f1-score   support\n",
    "\n",
    "     Disgust       0.58      0.54      0.56       979\n",
    "        Fear       0.66      0.69      0.67      1194\n",
    "         Sad       0.62      0.65      0.64      1523\n",
    "     Neutral       0.61      0.61      0.61      1175\n",
    "       Happy       0.66      0.62      0.64       963\n",
    "\n",
    "    accuracy                           0.63      5834\n",
    "   macro avg       0.63      0.62      0.62      5834\n",
    "weighted avg       0.63      0.63      0.63      5834\n",
    "\n",
    "Accuracy: 0.6275282824820021"
   ]
  },
  {
   "cell_type": "code",
   "execution_count": 4,
   "id": "3218b125",
   "metadata": {},
   "outputs": [],
   "source": [
    "accuracy_mlp_procesado =  0.6275282824820021"
   ]
  },
  {
   "cell_type": "markdown",
   "id": "df24150a",
   "metadata": {},
   "source": [
    "###### DATASET CON EEGLAB"
   ]
  },
  {
   "cell_type": "code",
   "execution_count": null,
   "id": "347faaac",
   "metadata": {},
   "outputs": [],
   "source": [
    "mlp = MLPClassifier(hidden_layer_sizes=(100,), max_iter=200, random_state=42, verbose=True)\n",
    "mlp.fit(X_train_eeglab_scaled, y_train_eeglab)\n",
    "\n",
    "# Predicciones en el conjunto de prueba\n",
    "y_pred_eeglab_mlp = mlp.predict(X_test_eeglab_scaled)\n",
    "\n",
    "# Evaluación del modelo\n",
    "accuracy_mlp_eeglab = accuracy_score(y_test_eeglab, y_pred_eeglab_mlp)\n",
    "print(\"Evaluación para el dataset 'procesado_eeglab' con MLPClassifier:\")\n",
    "print(\"Reporte de Clasificación:\\n\", classification_report(y_test_eeglab, y_pred_eeglab_mlp, target_names=list(emotion_labels.values())))\n",
    "print(\"Accuracy:\", accuracy_mlp_eeglab)\n",
    "\n",
    "# Visualizar la matriz de confusión para 'procesado_eeglab'\n",
    "plt.figure(figsize=(10, 7))\n",
    "plot_confusion_matrix(y_test_eeglab, y_pred_eeglab_mlp, class_labels=list(emotion_labels.values()))\n",
    "plt.show()"
   ]
  },
  {
   "cell_type": "markdown",
   "id": "ba28c408",
   "metadata": {},
   "source": [
    "Reporte de Clasificacin:\n",
    "               precision    recall  f1-score   support\n",
    "\n",
    "     Disgust       0.83      0.86      0.85       979\n",
    "        Fear       0.89      0.88      0.89      1194\n",
    "         Sad       0.89      0.89      0.89      1523\n",
    "     Neutral       0.87      0.88      0.87      1175\n",
    "       Happy       0.87      0.85      0.86       963\n",
    "\n",
    "    accuracy                           0.87      5834\n",
    "   macro avg       0.87      0.87      0.87      5834\n",
    "weighted avg       0.87      0.87      0.87      5834\n",
    "\n",
    "Accuracy: 0.8736715803908125\n"
   ]
  },
  {
   "cell_type": "code",
   "execution_count": 5,
   "id": "9c04bdc4",
   "metadata": {},
   "outputs": [],
   "source": [
    "accuracy_mlp_eeglab = 0.8236715803908125"
   ]
  },
  {
   "cell_type": "markdown",
   "id": "bdcedc24",
   "metadata": {},
   "source": [
    "## CNN"
   ]
  },
  {
   "cell_type": "markdown",
   "id": "41708744",
   "metadata": {},
   "source": [
    "##### DATASET SIN EEGLAB"
   ]
  },
  {
   "cell_type": "code",
   "execution_count": null,
   "id": "006bc05f",
   "metadata": {},
   "outputs": [],
   "source": [
    "# Preprocesamiento de los datos\n",
    "X_train_cnn = X_train_procesado_scaled.reshape(X_train_procesado_scaled.shape[0], 10, 31, 1)  # Adaptar según el tamaño\n",
    "X_test_cnn = X_test_procesado_scaled.reshape(X_test_procesado_scaled.shape[0], 10, 31, 1)  # Adaptar según el tamaño\n",
    "\n",
    "# Codificar las etiquetas\n",
    "encoder = LabelEncoder()\n",
    "y_train_encoded = encoder.fit_transform(y_train_procesado)\n",
    "y_test_encoded = encoder.transform(y_test_procesado)\n",
    "\n",
    "# Convertir las etiquetas a categóricas\n",
    "y_train_categorical = to_categorical(y_train_encoded)\n",
    "y_test_categorical = to_categorical(y_test_encoded)\n",
    "\n",
    "# Crear el modelo\n",
    "model = Sequential()\n",
    "model.add(Conv2D(32, kernel_size=(3, 3), activation='relu', input_shape=(10, 31, 1)))\n",
    "model.add(MaxPooling2D(pool_size=(2, 2)))\n",
    "model.add(Conv2D(64, (3, 3), activation='relu'))\n",
    "model.add(MaxPooling2D(pool_size=(2, 2)))\n",
    "model.add(Flatten())\n",
    "model.add(Dense(128, activation='relu'))\n",
    "model.add(Dropout(0.5))\n",
    "model.add(Dense(5, activation='softmax'))  # Cambia 5 por el número de clases\n",
    "\n",
    "model.compile(loss='categorical_crossentropy', optimizer='adam', metrics=['accuracy'])\n",
    "\n",
    "# Entrenar el modelo\n",
    "model.fit(X_train_cnn, y_train_categorical, epochs=10, batch_size=32, verbose=1, validation_data=(X_test_cnn, y_test_categorical))\n",
    "\n",
    "# Evaluación del modelo\n",
    "y_pred_categorical = model.predict(X_test_cnn)\n",
    "y_pred = np.argmax(y_pred_categorical, axis=1)\n",
    "\n",
    "accuracy_cnn_procesado = accuracy_score(y_test_encoded, y_pred)\n",
    "print(\"Evaluación para el dataset 'procesado' con CNN:\")\n",
    "print(\"Reporte de Clasificación:\\n\", classification_report(y_test_encoded, y_pred, target_names=list(emotion_labels.values())))\n",
    "print(\"Accuracy:\", accuracy_cnn_procesado)\n",
    "\n",
    "# Visualizar la matriz de confusión\n",
    "plt.figure(figsize=(10, 7))\n",
    "plot_confusion_matrix(y_test_encoded, y_pred, class_labels=list(emotion_labels.values()))\n",
    "plt.show()"
   ]
  },
  {
   "cell_type": "markdown",
   "id": "96104f89",
   "metadata": {},
   "source": [
    "Evaluacin para el dataset 'procesado' con CNN:\n",
    "Reporte de Clasificacin:\n",
    "               precision    recall  f1-score   support\n",
    "\n",
    "     Disgust       0.43      0.36      0.39       979\n",
    "        Fear       0.50      0.53      0.51      1194\n",
    "         Sad       0.46      0.58      0.51      1523\n",
    "     Neutral       0.56      0.41      0.47      1175\n",
    "       Happy       0.53      0.54      0.54       963\n",
    "\n",
    "    accuracy                           0.49      5834\n",
    "   macro avg       0.50      0.48      0.49      5834\n",
    "weighted avg       0.49      0.49      0.49      5834\n",
    "\n",
    "Accuracy: 0.490743914981145"
   ]
  },
  {
   "cell_type": "code",
   "execution_count": 6,
   "id": "d47853db",
   "metadata": {},
   "outputs": [],
   "source": [
    "accuracy_cnn_procesado = 0.490743914981145"
   ]
  },
  {
   "cell_type": "markdown",
   "id": "abea238b",
   "metadata": {},
   "source": [
    "##### DATASET CON EEGLAB"
   ]
  },
  {
   "cell_type": "code",
   "execution_count": null,
   "id": "f9b09e84",
   "metadata": {},
   "outputs": [],
   "source": [
    "# Preprocesamiento de los datos para el modelo CNN\n",
    "X_train_cnn = X_train_eeglab_scaled.reshape(X_train_eeglab_scaled.shape[0], 10, 31, 1)\n",
    "X_test_cnn = X_test_eeglab_scaled.reshape(X_test_eeglab_scaled.shape[0], 10, 31, 1)\n",
    "\n",
    "# Codificar las etiquetas\n",
    "encoder = LabelEncoder()\n",
    "y_train_encoded = encoder.fit_transform(y_train_eeglab)\n",
    "y_test_encoded = encoder.transform(y_test_eeglab)\n",
    "\n",
    "# Convertir las etiquetas a categoricas\n",
    "y_train_categorical = to_categorical(y_train_encoded)\n",
    "y_test_categorical = to_categorical(y_test_encoded)\n",
    "\n",
    "# Crear el modelo CNN mejorado\n",
    "model = Sequential()\n",
    "model.add(Conv2D(32, kernel_size=(3, 3), activation='relu', padding='same', input_shape=(10, 31, 1)))\n",
    "model.add(BatchNormalization())\n",
    "model.add(MaxPooling2D(pool_size=(2, 2), padding='same'))\n",
    "model.add(Dropout(0.25))\n",
    "\n",
    "model.add(Conv2D(64, kernel_size=(3, 3), activation='relu', padding='same'))\n",
    "model.add(BatchNormalization())\n",
    "model.add(MaxPooling2D(pool_size=(2, 2), padding='same'))\n",
    "model.add(Dropout(0.25))\n",
    "\n",
    "model.add(Conv2D(128, kernel_size=(3, 3), activation='relu', padding='same'))\n",
    "model.add(BatchNormalization())\n",
    "model.add(MaxPooling2D(pool_size=(2, 2), padding='same'))\n",
    "model.add(Dropout(0.25))\n",
    "\n",
    "model.add(Flatten())\n",
    "model.add(Dense(256, activation='relu', kernel_regularizer='l2'))\n",
    "model.add(BatchNormalization())\n",
    "model.add(Dropout(0.5))\n",
    "\n",
    "model.add(Dense(5, activation='softmax'))\n",
    "\n",
    "# Compilar el modelo con un optimizador Adam y una tasa de aprendizaje ajustada\n",
    "optimizer = Adam(learning_rate=0.0001)\n",
    "model.compile(loss='categorical_crossentropy', optimizer=optimizer, metrics=['accuracy'])\n",
    "\n",
    "# Callbacks para Early Stopping y Reduccion de la Tasa de Aprendizaje\n",
    "early_stopping = EarlyStopping(monitor='val_loss', patience=10, restore_best_weights=True)\n",
    "reduce_lr = ReduceLROnPlateau(monitor='val_loss', factor=0.5, patience=5, min_lr=1e-6)\n",
    "\n",
    "# Entrenar el modelo con las nuevas configuraciones\n",
    "history = model.fit(X_train_cnn, y_train_categorical, epochs=80, batch_size=64, \n",
    "                    validation_data=(X_test_cnn, y_test_categorical), \n",
    "                    callbacks=[early_stopping, reduce_lr], verbose=1)\n",
    "\n",
    "# Evaluacion del modelo mejorado\n",
    "y_pred_categorical = model.predict(X_test_cnn)\n",
    "y_pred = np.argmax(y_pred_categorical, axis=1)\n",
    "\n",
    "accuracy_cnn_eeglab = accuracy_score(y_test_encoded, y_pred)\n",
    "print(\"Evaluacion para el dataset 'procesado_eeglab' con CNN mejorado:\")\n",
    "print(\"Reporte de Clasificacion:\\n\", classification_report(y_test_encoded, y_pred, target_names=list(emotion_labels.values())))\n",
    "print(\"Accuracy:\", accuracy_cnn_eeglab)\n",
    "\n",
    "# Visualizar la matriz de confusion\n",
    "plt.figure(figsize=(10, 7))\n",
    "plot_confusion_matrix(y_test_encoded, y_pred, class_labels=list(emotion_labels.values()))\n",
    "plt.show()\n",
    "\n",
    "# Graficas de perdida y precision\n",
    "plt.figure(figsize=(12, 6))\n",
    "plt.subplot(1, 2, 1)\n",
    "plt.plot(history.history['loss'], label='Train Loss')\n",
    "plt.plot(history.history['val_loss'], label='Validation Loss')\n",
    "plt.title('Model Loss')\n",
    "plt.ylabel('Loss')\n",
    "plt.xlabel('Epoch')\n",
    "plt.legend()\n",
    "\n",
    "plt.subplot(1, 2, 2)\n",
    "plt.plot(history.history['accuracy'], label='Train Accuracy')\n",
    "plt.plot(history.history['val_accuracy'], label='Validation Accuracy')\n",
    "plt.title('Model Accuracy')\n",
    "plt.ylabel('Accuracy')\n",
    "plt.xlabel('Epoch')\n",
    "plt.legend()\n",
    "plt.tight_layout()\n",
    "plt.show()\n",
    "\n",
    "# Guardar la grafica del modelo en un archivo PNG\n",
    "plot_model(model, to_file='CNN_ARCHITECTURE.png', show_shapes=True, show_layer_names=True)\n",
    "\n",
    "# Mostrar la imagen del modelo\n",
    "from IPython.display import Image\n",
    "Image(filename='CNN_ARCHITECTURE.png')"
   ]
  },
  {
   "cell_type": "markdown",
   "id": "d7b29838",
   "metadata": {},
   "source": [
    "Evaluacion para el dataset 'procesado_eeglab' con CNN mejorado:\n",
    "Reporte de Clasificacion:\n",
    "               precision    recall  f1-score   support\n",
    "\n",
    "     Disgust       0.90      0.87      0.88       979\n",
    "        Fear       0.93      0.89      0.91      1194\n",
    "         Sad       0.88      0.90      0.89      1523\n",
    "     Neutral       0.90      0.89      0.89      1175\n",
    "       Happy       0.87      0.90      0.88       963\n",
    "\n",
    "    accuracy                           0.89      5834\n",
    "   \n",
    "\n",
    "Accuracy: 0.8921837504285225"
   ]
  },
  {
   "cell_type": "code",
   "execution_count": 7,
   "id": "9a307bbd",
   "metadata": {},
   "outputs": [],
   "source": [
    "accuracy_cnn_eeglab = 0.8921837504285225"
   ]
  },
  {
   "cell_type": "markdown",
   "id": "c5c0a9d3",
   "metadata": {},
   "source": [
    "## LSTM"
   ]
  },
  {
   "cell_type": "markdown",
   "id": "41388f29",
   "metadata": {},
   "source": [
    "##### DATASET SIN EEGLAB"
   ]
  },
  {
   "cell_type": "code",
   "execution_count": null,
   "id": "ed525cca",
   "metadata": {},
   "outputs": [],
   "source": [
    "X_train_lstm = X_train_procesado_scaled.reshape(X_train_procesado_scaled.shape[0], 10, 31)  # 10 ventanas temporales, 31 características\n",
    "X_test_lstm = X_test_procesado_scaled.reshape(X_test_procesado_scaled.shape[0], 10, 31)  # 10 ventanas temporales, 31 características\n",
    "\n",
    "encoder = LabelEncoder()\n",
    "y_train_encoded = encoder.fit_transform(y_train_procesado)\n",
    "y_test_encoded = encoder.transform(y_test_procesado)\n",
    "\n",
    "y_train_categorical = to_categorical(y_train_encoded)\n",
    "y_test_categorical = to_categorical(y_test_encoded)\n",
    "\n",
    "# Crear el modelo\n",
    "model_procesado = Sequential()\n",
    "model_procesado.add(LSTM(128, input_shape=(10, 31), return_sequences=True))\n",
    "model_procesado.add(Dropout(0.5))\n",
    "model_procesado.add(LSTM(128))\n",
    "model_procesado.add(Dropout(0.5))\n",
    "model_procesado.add(Dense(5, activation='softmax')) \n",
    "\n",
    "model_procesado.compile(loss='categorical_crossentropy', optimizer=Adam(learning_rate=0.001), metrics=['accuracy'])\n",
    "\n",
    "# Entrenar el modelo\n",
    "model_procesado.fit(X_train_lstm, y_train_categorical, epochs=100, batch_size=32, verbose=1, validation_data=(X_test_lstm, y_test_categorical))\n",
    "\n",
    "# Evaluación del modelo\n",
    "y_pred_categorical_procesado = model_procesado.predict(X_test_lstm)\n",
    "y_pred_procesado = np.argmax(y_pred_categorical_procesado, axis=1)\n",
    "\n",
    "accuracy_lstm_procesado = accuracy_score(y_test_encoded, y_pred_procesado)\n",
    "print(\"Evaluación para el dataset 'procesado' con LSTM:\")\n",
    "print(\"Reporte de Clasificación:\\n\", classification_report(y_test_encoded, y_pred_procesado, target_names=list(emotion_labels.values())))\n",
    "print(\"Accuracy:\", accuracy_lstm_procesado)\n",
    "\n",
    "# Visualizar la matriz de confusión\n",
    "plt.figure(figsize=(10, 7))\n",
    "plot_confusion_matrix(y_test_encoded, y_pred_procesado, class_labels=list(emotion_labels.values()))\n",
    "plt.show()"
   ]
  },
  {
   "cell_type": "markdown",
   "id": "aa47b6f6",
   "metadata": {},
   "source": [
    "Reporte de Clasificación:\n",
    "               precision    recall  f1-score   support\n",
    "\n",
    "     Disgust       0.58      0.49      0.53       979\n",
    "        Fear       0.61      0.64      0.63      1194\n",
    "         Sad       0.58      0.64      0.61      1523\n",
    "     Neutral       0.61      0.57      0.59      1175\n",
    "       Happy       0.61      0.61      0.61       963\n",
    "\n",
    "    accuracy                           0.60      5834"
   ]
  },
  {
   "cell_type": "code",
   "execution_count": 8,
   "id": "f662567e",
   "metadata": {},
   "outputs": [],
   "source": [
    "accuracy_lstm_procesado = 0.5965032567706547"
   ]
  },
  {
   "cell_type": "markdown",
   "id": "fff80b36",
   "metadata": {},
   "source": [
    "##### DATASET CON EEGLAB"
   ]
  },
  {
   "cell_type": "code",
   "execution_count": null,
   "id": "485c217c",
   "metadata": {},
   "outputs": [],
   "source": [
    "# Preprocesamiento de los datos\n",
    "X_train_lstm = X_train_eeglab_scaled.reshape(X_train_eeglab_scaled.shape[0], 10, 31)  # 10 ventanas temporales, 31 características\n",
    "X_test_lstm = X_test_eeglab_scaled.reshape(X_test_eeglab_scaled.shape[0], 10, 31)  # 10 ventanas temporales, 31 características\n",
    "\n",
    "encoder = LabelEncoder()\n",
    "y_train_encoded = encoder.fit_transform(y_train_eeglab)\n",
    "y_test_encoded = encoder.transform(y_test_eeglab)\n",
    "\n",
    "y_train_categorical = to_categorical(y_train_encoded)\n",
    "y_test_categorical = to_categorical(y_test_encoded)\n",
    "\n",
    "# Crear el modelo\n",
    "model_procesado = Sequential()\n",
    "model_procesado.add(LSTM(128, input_shape=(10, 31), return_sequences=True))\n",
    "model_procesado.add(Dropout(0.5))\n",
    "model_procesado.add(LSTM(128))\n",
    "model_procesado.add(Dropout(0.5))\n",
    "model_procesado.add(Dense(5, activation='softmax')) \n",
    "\n",
    "model_procesado.compile(loss='categorical_crossentropy', optimizer=Adam(learning_rate=0.001), metrics=['accuracy'])\n",
    "\n",
    "# Entrenar el modelo\n",
    "history = model_procesado.fit(X_train_lstm, y_train_categorical, epochs=80, batch_size=32, verbose=1, validation_data=(X_test_lstm, y_test_categorical))\n",
    "\n",
    "# Evaluación del modelo\n",
    "y_pred_categorical_procesado = model_procesado.predict(X_test_lstm)\n",
    "y_pred_procesado = np.argmax(y_pred_categorical_procesado, axis=1)\n",
    "\n",
    "accuracy_lstm_eeglab = accuracy_score(y_test_encoded, y_pred_procesado)\n",
    "print(\"Evaluación para el dataset 'procesado_eeglab' con LSTM:\")\n",
    "print(\"Reporte de Clasificación:\\n\", classification_report(y_test_encoded, y_pred_procesado, target_names=list(emotion_labels.values())))\n",
    "print(\"Accuracy:\", accuracy_lstm_eeglab)\n",
    "\n",
    "# Visualizar la matriz de confusión\n",
    "plt.figure(figsize=(10, 7))\n",
    "plot_confusion_matrix(y_test_encoded, y_pred_procesado, class_labels=list(emotion_labels.values()))\n",
    "plt.show()\n",
    "\n",
    "# Graficar Accuracy y Loss\n",
    "plt.figure(figsize=(14, 5))\n",
    "\n",
    "# Accuracy\n",
    "plt.subplot(1, 2, 1)\n",
    "plt.plot(history.history['accuracy'], label='Train Accuracy')\n",
    "plt.plot(history.history['val_accuracy'], label='Validation Accuracy')\n",
    "plt.title('Model Accuracy')\n",
    "plt.xlabel('Epoch')\n",
    "plt.ylabel('Accuracy')\n",
    "plt.legend(loc='upper left')\n",
    "\n",
    "# Loss\n",
    "plt.subplot(1, 2, 2)\n",
    "plt.plot(history.history['loss'], label='Train Loss')\n",
    "plt.plot(history.history['val_loss'], label='Validation Loss')\n",
    "plt.title('Model Loss')\n",
    "plt.xlabel('Epoch')\n",
    "plt.ylabel('Loss')\n",
    "plt.legend(loc='upper left')\n",
    "\n",
    "plt.show()"
   ]
  },
  {
   "cell_type": "markdown",
   "id": "d2b9ce76",
   "metadata": {},
   "source": [
    "Reporte de Clasificación:\n",
    "               precision    recall  f1-score   support\n",
    "\n",
    "     Disgust       0.86      0.86      0.86       979\n",
    "        Fear       0.88      0.90      0.89      1194\n",
    "         Sad       0.88      0.90      0.89      1523\n",
    "     Neutral       0.89      0.85      0.87      1175\n",
    "       Happy       0.88      0.87      0.87       963\n",
    "\n",
    "    accuracy                           0.88      5834\n",
    "   \n",
    "Accuracy: 0.8796708947548851"
   ]
  },
  {
   "cell_type": "code",
   "execution_count": 9,
   "id": "1fd45094",
   "metadata": {},
   "outputs": [],
   "source": [
    "accuracy_lstm_eeglab = 0.8796708947548851"
   ]
  },
  {
   "cell_type": "markdown",
   "id": "bb9e5b1f",
   "metadata": {},
   "source": [
    "# GRAFICAR RESULTADOS"
   ]
  },
  {
   "cell_type": "code",
   "execution_count": 13,
   "id": "82d181d7",
   "metadata": {},
   "outputs": [
    {
     "data": {
      "image/png": "[encoded data removed]",
      "text/plain": [
       "<Figure size 1000x600 with 1 Axes>"
      ]
     },
     "metadata": {},
     "output_type": "display_data"
    }
   ],
   "source": [
    "# Datos de precisión\n",
    "results = {\n",
    "    'GBM': [accuracy_gbm_procesado, accuracy_gbm_eeglab],\n",
    "    'MLP': [accuracy_mlp_procesado, accuracy_mlp_eeglab],\n",
    "    'CNN': [accuracy_cnn_procesado, accuracy_cnn_eeglab],\n",
    "    'LSTM': [accuracy_lstm_procesado, accuracy_lstm_eeglab]\n",
    "}\n",
    "\n",
    "datasets = ['Sin Procesar', 'Procesado']\n",
    "model_names = list(results.keys())\n",
    "num_models = len(model_names)\n",
    "bar_width = 0.35  # Ancho de las barras\n",
    "index = np.arange(num_models)\n",
    "\n",
    "# Gráficos para los datasets\n",
    "bars1 = [results[model][0] for model in model_names]\n",
    "bars2 = [results[model][1] for model in model_names]\n",
    "\n",
    "# Crear las barras\n",
    "plt.figure(figsize=(10, 6))\n",
    "plt.bar(index, bars1, bar_width, label=datasets[0])\n",
    "plt.bar(index + bar_width, bars2, bar_width, label=datasets[1])\n",
    "\n",
    "# Etiquetas y títulos\n",
    "plt.xlabel('Modelos')\n",
    "plt.ylabel('Precisión')\n",
    "plt.title('Comparativa de Precisión entre Modelos y Datasets')\n",
    "plt.xticks(index + bar_width / 2, model_names)\n",
    "plt.legend()\n",
    "\n",
    "# Mostrar gráfico\n",
    "plt.show()"
   ]
  },
  {
   "cell_type": "markdown",
   "id": "1cab4627",
   "metadata": {},
   "source": [
    "# PRUEBAS MEJORA"
   ]
  },
  {
   "cell_type": "markdown",
   "id": "e73548a9",
   "metadata": {},
   "source": [
    "### LSTM ANTI OVERFITTING"
   ]
  },
  {
   "cell_type": "code",
   "execution_count": null,
   "id": "b66f3822",
   "metadata": {},
   "outputs": [],
   "source": [
    "# Preprocesamiento de los datos para el dataset 'procesado_eeglab'\n",
    "X_train_lstm_eeglab = X_train_eeglab_scaled.reshape(X_train_eeglab_scaled.shape[0], 10, 31)  # 10 ventanas temporales, 31 características\n",
    "X_test_lstm_eeglab = X_test_eeglab_scaled.reshape(X_test_eeglab_scaled.shape[0], 10, 31)  # 10 ventanas temporales, 31 características\n",
    "\n",
    "# Codificar las etiquetas\n",
    "encoder = LabelEncoder()\n",
    "y_train_encoded_eeglab = encoder.fit_transform(y_train_eeglab)\n",
    "y_test_encoded_eeglab = encoder.transform(y_test_eeglab)\n",
    "\n",
    "# Convertir las etiquetas a categóricas\n",
    "y_train_categorical_eeglab = to_categorical(y_train_encoded_eeglab)\n",
    "y_test_categorical_eeglab = to_categorical(y_test_encoded_eeglab)\n",
    "\n",
    "# Definir el modelo LSTM con las modificaciones\n",
    "model_eeglab = Sequential()\n",
    "model_eeglab.add(LSTM(64, input_shape=(10, 31), return_sequences=True, kernel_regularizer=l2(0.01)))\n",
    "model_eeglab.add(BatchNormalization())  # Añadir Batch Normalization\n",
    "model_eeglab.add(Dropout(0.6))  # Aumentar la tasa de dropout\n",
    "\n",
    "model_eeglab.add(LSTM(64, kernel_regularizer=l2(0.01)))\n",
    "model_eeglab.add(BatchNormalization())  # Añadir Batch Normalization\n",
    "model_eeglab.add(Dropout(0.6))  # Aumentar la tasa de dropout\n",
    "\n",
    "model_eeglab.add(Dense(5, activation='softmax'))  # Cambia 5 por el número de clases\n",
    "\n",
    "# Compilar el modelo con una tasa de aprendizaje reducida\n",
    "model_eeglab.compile(loss='categorical_crossentropy', \n",
    "                     optimizer=Adam(learning_rate=0.0001),  # Reducir la tasa de aprendizaje\n",
    "                     metrics=['accuracy'])\n",
    "\n",
    "# Implementar Early Stopping\n",
    "early_stopping = EarlyStopping(monitor='val_loss', patience=5, restore_best_weights=True)\n",
    "\n",
    "# Entrenar el modelo\n",
    "history = model_eeglab.fit(X_train_lstm_eeglab, y_train_categorical_eeglab, \n",
    "                           epochs=200, batch_size=32, verbose=1, \n",
    "                           validation_data=(X_test_lstm_eeglab, y_test_categorical_eeglab), \n",
    "                           callbacks=[early_stopping])\n",
    "\n",
    "# Evaluación del modelo\n",
    "y_pred_categorical_eeglab = model_eeglab.predict(X_test_lstm_eeglab)\n",
    "y_pred_eeglab = np.argmax(y_pred_categorical_eeglab, axis=1)\n",
    "\n",
    "print(\"Evaluación para el dataset 'procesado_eeglab' con LSTM:\")\n",
    "print(\"Reporte de Clasificación:\\n\", classification_report(y_test_encoded_eeglab, y_pred_eeglab, target_names=list(emotion_labels.values())))\n",
    "print(\"Accuracy:\", accuracy_score(y_test_encoded_eeglab, y_pred_eeglab))\n",
    "\n",
    "# Visualizar la matriz de confusión\n",
    "plt.figure(figsize=(10, 7))\n",
    "plot_confusion_matrix(y_test_encoded_eeglab, y_pred_eeglab, class_labels=list(emotion_labels.values()))\n",
    "plt.show()\n",
    "\n",
    "# Gráficas de pérdida y precisión\n",
    "plt.figure(figsize=(12, 6))\n",
    "plt.subplot(1, 2, 1)\n",
    "plt.plot(history.history['loss'], label='Train Loss')\n",
    "plt.plot(history.history['val_loss'], label='Validation Loss')\n",
    "plt.title('Model Loss')\n",
    "plt.ylabel('Loss')\n",
    "plt.xlabel('Epoch')\n",
    "plt.legend()\n",
    "\n",
    "plt.subplot(1, 2, 2)\n",
    "plt.plot(history.history['accuracy'], label='Train Accuracy')\n",
    "plt.plot(history.history['val_accuracy'], label='Validation Accuracy')\n",
    "plt.title('Model Accuracy')\n",
    "plt.ylabel('Accuracy')\n",
    "plt.xlabel('Epoch')\n",
    "plt.legend()\n",
    "plt.tight_layout()\n",
    "plt.show()"
   ]
  },
  {
   "cell_type": "markdown",
   "id": "f3222bfc",
   "metadata": {},
   "source": [
    "Reporte de Clasificación:\n",
    "               precision    recall  f1-score   support\n",
    "\n",
    "     Disgust       0.70      0.62      0.66       979\n",
    "        Fear       0.73      0.72      0.73      1194\n",
    "         Sad       0.68      0.79      0.73      1523\n",
    "     Neutral       0.74      0.65      0.69      1175\n",
    "       Happy       0.68      0.70      0.69       963\n",
    "\n",
    "    accuracy                           0.71      5834\n",
    "    \n",
    "    Accuracy: 0.7055193692149468"
   ]
  },
  {
   "cell_type": "markdown",
   "id": "12b9d466",
   "metadata": {},
   "source": [
    "### LSTM + CNN"
   ]
  },
  {
   "cell_type": "code",
   "execution_count": null,
   "id": "2adbbc7e",
   "metadata": {},
   "outputs": [],
   "source": [
    "# Preprocesamiento de los datos\n",
    "X_train_combined = X_train_eeglab_scaled.reshape(X_train_eeglab_scaled.shape[0], 10, 31)  # 10 ventanas temporales, 31 características\n",
    "X_test_combined = X_test_eeglab_scaled.reshape(X_test_eeglab_scaled.shape[0], 10, 31)  # 10 ventanas temporales, 31 características\n",
    "\n",
    "# Codificar las etiquetas\n",
    "encoder = LabelEncoder()\n",
    "y_train_encoded = encoder.fit_transform(y_train_eeglab)\n",
    "y_test_encoded = encoder.transform(y_test_eeglab)\n",
    "\n",
    "# Convertir las etiquetas a categóricas\n",
    "y_train_categorical = to_categorical(y_train_encoded)\n",
    "y_test_categorical = to_categorical(y_test_encoded)\n",
    "\n",
    "# Crear el modelo CNN + LSTM\n",
    "model_combined = Sequential()\n",
    "\n",
    "# Capas CNN para extraer características locales de las secuencias\n",
    "model_combined.add(Conv1D(filters=64, kernel_size=3, activation='relu', input_shape=(10, 31)))\n",
    "model_combined.add(BatchNormalization())\n",
    "model_combined.add(MaxPooling1D(pool_size=2))\n",
    "model_combined.add(Dropout(0.3))\n",
    "\n",
    "model_combined.add(Conv1D(filters=128, kernel_size=3, activation='relu'))\n",
    "model_combined.add(BatchNormalization())\n",
    "model_combined.add(MaxPooling1D(pool_size=2))\n",
    "model_combined.add(Dropout(0.3))\n",
    "\n",
    "# LSTM para capturar dependencias temporales\n",
    "model_combined.add(LSTM(128, return_sequences=True))\n",
    "model_combined.add(Dropout(0.4))\n",
    "model_combined.add(LSTM(64))\n",
    "\n",
    "# Capa densa para la clasificación final\n",
    "model_combined.add(Dense(5, activation='softmax'))  # Cambia '5' por el número de clases\n",
    "\n",
    "# Compilar el modelo\n",
    "optimizer = Adam(learning_rate=0.0005)\n",
    "model_combined.compile(loss='categorical_crossentropy', optimizer=optimizer, metrics=['accuracy'])\n",
    "\n",
    "# Entrenar el modelo\n",
    "history = model_combined.fit(X_train_combined, y_train_categorical, epochs=80, batch_size=32, verbose=1, validation_data=(X_test_combined, y_test_categorical))\n",
    "\n",
    "# Evaluación del modelo\n",
    "y_pred_categorical = model_combined.predict(X_test_combined)\n",
    "y_pred = np.argmax(y_pred_categorical, axis=1)\n",
    "\n",
    "accuracy_combined = accuracy_score(y_test_encoded, y_pred)\n",
    "print(\"Evaluación para el dataset 'procesado_eeglab' con CNN + LSTM:\")\n",
    "print(\"Reporte de Clasificación:\\n\", classification_report(y_test_encoded, y_pred, target_names=list(emotion_labels.values())))\n",
    "print(\"Accuracy:\", accuracy_combined)\n",
    "\n",
    "# Visualizar la matriz de confusión\n",
    "plt.figure(figsize=(10, 7))\n",
    "plot_confusion_matrix(y_test_encoded, y_pred, class_labels=list(emotion_labels.values()))\n",
    "plt.show()\n",
    "\n",
    "# Graficar Accuracy y Loss\n",
    "plt.figure(figsize=(14, 5))\n",
    "\n",
    "# Accuracy\n",
    "plt.subplot(1, 2, 1)\n",
    "plt.plot(history.history['accuracy'], label='Train Accuracy')\n",
    "plt.plot(history.history['val_accuracy'], label='Validation Accuracy')\n",
    "plt.title('Model Accuracy')\n",
    "plt.xlabel('Epoch')\n",
    "plt.ylabel('Accuracy')\n",
    "plt.legend(loc='upper left')\n",
    "\n",
    "# Loss\n",
    "plt.subplot(1, 2, 2)\n",
    "plt.plot(history.history['loss'], label='Train Loss')\n",
    "plt.plot(history.history['val_loss'], label='Validation Loss')\n",
    "plt.title('Model Loss')\n",
    "plt.xlabel('Epoch')\n",
    "plt.ylabel('Loss')\n",
    "plt.legend(loc='upper left')\n",
    "\n",
    "plt.show()"
   ]
  },
  {
   "cell_type": "markdown",
   "id": "aef6ea55",
   "metadata": {},
   "source": [
    "Reporte de Clasificación:\n",
    "               precision    recall  f1-score   support\n",
    "\n",
    "     Disgust       0.89      0.89      0.89       979\n",
    "        Fear       0.91      0.93      0.92      1194\n",
    "         Sad       0.94      0.91      0.92      1523\n",
    "     Neutral       0.92      0.91      0.91      1175\n",
    "       Happy       0.88      0.91      0.90       963\n",
    "\n",
    "    accuracy                           0.91      5834\n",
    "    macro avg       0.91      0.91     0.91      5834\n",
    "    weighted avg    0.91      0.91     0.91      5834\n",
    "\n",
    "    Accuracy: 0.9110387384298937"
   ]
  },
  {
   "cell_type": "markdown",
   "id": "898b1ff2",
   "metadata": {},
   "source": [
    "### LSTM BIDIRECCIONAL"
   ]
  },
  {
   "cell_type": "code",
   "execution_count": null,
   "id": "584c08f9",
   "metadata": {},
   "outputs": [],
   "source": [
    "# Preprocesamiento de los datos para el dataset 'procesado_eeglab'\n",
    "X_train_lstm_eeglab = X_train_eeglab_scaled.reshape(X_train_eeglab_scaled.shape[0], 10, 31)  # 10 ventanas temporales, 31 características\n",
    "X_test_lstm_eeglab = X_test_eeglab_scaled.reshape(X_test_eeglab_scaled.shape[0], 10, 31)  # 10 ventanas temporales, 31 características\n",
    "\n",
    "# Codificar las etiquetas\n",
    "encoder = LabelEncoder()\n",
    "y_train_encoded_eeglab = encoder.fit_transform(y_train_eeglab)\n",
    "y_test_encoded_eeglab = encoder.transform(y_test_eeglab)\n",
    "\n",
    "# Convertir las etiquetas a categóricas\n",
    "y_train_categorical_eeglab = to_categorical(y_train_encoded_eeglab)\n",
    "y_test_categorical_eeglab = to_categorical(y_test_encoded_eeglab)\n",
    "\n",
    "# Definir el modelo LSTM con más complejidad\n",
    "model_eeglab = Sequential()\n",
    "model_eeglab.add(Bidirectional(LSTM(128, return_sequences=True, kernel_regularizer=l2(0.001)), input_shape=(10, 31)))\n",
    "model_eeglab.add(BatchNormalization())\n",
    "model_eeglab.add(Dropout(0.5))\n",
    "\n",
    "model_eeglab.add(Bidirectional(LSTM(128, return_sequences=True, kernel_regularizer=l2(0.001))))\n",
    "model_eeglab.add(BatchNormalization())\n",
    "model_eeglab.add(Dropout(0.5))\n",
    "\n",
    "model_eeglab.add(LSTM(64, kernel_regularizer=l2(0.001)))\n",
    "model_eeglab.add(BatchNormalization())\n",
    "model_eeglab.add(Dropout(0.4))\n",
    "\n",
    "model_eeglab.add(Dense(5, activation='softmax'))  # Cambia 5 por el número de clases\n",
    "\n",
    "# Compilar el modelo con una tasa de aprendizaje reducida\n",
    "model_eeglab.compile(loss='categorical_crossentropy', \n",
    "                     optimizer=Adam(learning_rate=0.0005),  # Ajustar la tasa de aprendizaje\n",
    "                     metrics=['accuracy'])\n",
    "\n",
    "# Implementar Early Stopping y ReduceLROnPlateau\n",
    "early_stopping = EarlyStopping(monitor='val_loss', patience=10, restore_best_weights=True)\n",
    "reduce_lr = ReduceLROnPlateau(monitor='val_loss', factor=0.5, patience=3, min_lr=1e-6)\n",
    "\n",
    "# Entrenar el modelo\n",
    "history = model_eeglab.fit(X_train_lstm_eeglab, y_train_categorical_eeglab, \n",
    "                           epochs=100, batch_size=32, verbose=1, \n",
    "                           validation_data=(X_test_lstm_eeglab, y_test_categorical_eeglab), \n",
    "                           callbacks=[early_stopping, reduce_lr])\n",
    "\n",
    "# Evaluación del modelo\n",
    "y_pred_categorical_eeglab = model_eeglab.predict(X_test_lstm_eeglab)\n",
    "y_pred_eeglab = np.argmax(y_pred_categorical_eeglab, axis=1)\n",
    "\n",
    "print(\"Evaluación para el dataset 'procesado_eeglab' con LSTM:\")\n",
    "print(\"Reporte de Clasificación:\\n\", classification_report(y_test_encoded_eeglab, y_pred_eeglab, target_names=list(emotion_labels.values())))\n",
    "print(\"Accuracy:\", accuracy_score(y_test_encoded_eeglab, y_pred_eeglab))\n",
    "\n",
    "# Visualizar la matriz de confusión\n",
    "plt.figure(figsize=(10, 7))\n",
    "plot_confusion_matrix(y_test_encoded_eeglab, y_pred_eeglab, class_labels=list(emotion_labels.values()))\n",
    "plt.show()\n",
    "\n",
    "# Gráficas de pérdida y precisión\n",
    "plt.figure(figsize=(12, 6))\n",
    "plt.subplot(1, 2, 1)\n",
    "plt.plot(history.history['loss'], label='Train Loss')\n",
    "plt.plot(history.history['val_loss'], label='Validation Loss')\n",
    "plt.title('Model Loss')\n",
    "plt.ylabel('Loss')\n",
    "plt.xlabel('Epoch')\n",
    "plt.legend()\n",
    "\n",
    "plt.subplot(1, 2, 2)\n",
    "plt.plot(history.history['accuracy'], label='Train Accuracy')\n",
    "plt.plot(history.history['val_accuracy'], label='Validation Accuracy')\n",
    "plt.title('Model Accuracy')\n",
    "plt.ylabel('Accuracy')\n",
    "plt.xlabel('Epoch')\n",
    "plt.legend()\n",
    "plt.tight_layout()\n",
    "plt.show()"
   ]
  },
  {
   "cell_type": "markdown",
   "id": "6872a1f1",
   "metadata": {},
   "source": [
    "Reporte de Clasificación:\n",
    "               precision    recall  f1-score   support\n",
    "\n",
    "     Disgust       0.95      0.94      0.94       979\n",
    "        Fear       0.96      0.96      0.96      1194\n",
    "         Sad       0.96      0.95      0.96      1523\n",
    "     Neutral       0.96      0.96      0.96      1175\n",
    "       Happy       0.92      0.95      0.94       963\n",
    "\n",
    "    accuracy                           0.95      5834\n",
    "    macro avg       0.95      0.95     0.95      5834\n",
    "    weighted avg    0.95      0.95     0.95      5834\n",
    "\n",
    "Accuracy: 0.9508056222146041"
   ]
  }
 ],
 "metadata": {
  "kernelspec": {
   "display_name": "Python 3 (ipykernel)",
   "language": "python",
   "name": "python3"
  },
  "language_info": {
   "codemirror_mode": {
    "name": "ipython",
    "version": 3
   },
   "file_extension": ".py",
   "mimetype": "text/x-python",
   "name": "python",
   "nbconvert_exporter": "python",
   "pygments_lexer": "ipython3",
   "version": "3.7.4"
  }
 },
 "nbformat": 4,
 "nbformat_minor": 5
}
