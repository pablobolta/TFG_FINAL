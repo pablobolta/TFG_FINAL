{
 "cells": [
  {
   "cell_type": "code",
   "execution_count": null,
   "id": "a5fa7cbc",
   "metadata": {},
   "outputs": [],
   "source": [
    "import pandas as pd\n",
    "import numpy as np\n",
    "import mne\n",
    "\n",
    "#TXT\n",
    "file_path = 'OpenBCI-RAW-2024-07-30_14-44-13.txt'\n",
    "\n",
    "#Leer el archivo txt\n",
    "data = pd.read_csv(file_path, comment='%', header=0)\n",
    "\n",
    "# Extraer las columnas correspondientes a los canales EEG (del 0 al 15)\n",
    "eeg_data = data.iloc[:, 1:17].values.T  # Transponer para que las filas sean tiempos y las columnas sean canales\n",
    "\n",
    "# Definir la frecuencia de muestreo y los nombres de los canales\n",
    "sfreq = 125  # Frecuencia de muestreo en Hz\n",
    "ch_names = ['FP1', 'FP2', 'C3', 'C4', 'P7', 'P8', 'O1', 'O2', 'F7', 'F8', 'F3', 'F4', 'T7', 'T8', 'P3', 'P4']\n",
    "\n",
    "# Calcular el número de muestras a eliminar (15 segundos de datos)\n",
    "#samples_to_remove = 15 * sfreq\n",
    "\n",
    "# Recortar los datos eliminando los primeros y últimos 15 segundos\n",
    "#eeg_data = eeg_data[:, samples_to_remove:-samples_to_remove]\n",
    "\n",
    "# Crear la información de los canales\n",
    "info = mne.create_info(ch_names=ch_names, sfreq=sfreq, ch_types='eeg')\n",
    "\n",
    "# Crear el objeto RawArray\n",
    "raw = mne.io.RawArray(eeg_data, info)\n",
    "\n",
    "# Guardar en formato .fif\n",
    "output_file = '_5.fif'\n",
    "raw.save(output_file, overwrite=True)\n",
    "\n",
    "print(f'Archivo .fif guardado en {output_file}')"
   ]
  }
 ],
 "metadata": {
  "kernelspec": {
   "display_name": "Python 3 (ipykernel)",
   "language": "python",
   "name": "python3"
  },
  "language_info": {
   "codemirror_mode": {
    "name": "ipython",
    "version": 3
   },
   "file_extension": ".py",
   "mimetype": "text/x-python",
   "name": "python",
   "nbconvert_exporter": "python",
   "pygments_lexer": "ipython3",
   "version": "3.7.4"
  }
 },
 "nbformat": 4,
 "nbformat_minor": 5
}
